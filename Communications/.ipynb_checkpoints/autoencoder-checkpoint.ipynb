{
 "cells": [
  {
   "cell_type": "code",
   "execution_count": 1,
   "metadata": {},
   "outputs": [
    {
     "name": "stderr",
     "output_type": "stream",
     "text": [
      "Using TensorFlow backend.\n"
     ]
    }
   ],
   "source": [
    "import numpy as np\n",
    "import keras\n",
    "import tensorflow as tf\n",
    "from scipy.special import erfc\n",
    "from sklearn.manifold import TSNE\n",
    "from keras.layers import Input, Dense, GaussianNoise, Lambda, Embedding, Flatten\n",
    "from keras.models import Model\n",
    "from keras.optimizers import Adam\n",
    "from keras import backend as bkend\n",
    "import matplotlib.pyplot as plt\n",
    "%matplotlib inline"
   ]
  },
  {
   "cell_type": "code",
   "execution_count": 2,
   "metadata": {},
   "outputs": [],
   "source": [
    "M = 16 # cardinalidade do conjunto de mensagens possiveis\n",
    "k = int(np.log2(M)) # bits\n",
    "n_ch = 7 # usos de canal\n",
    "n_msg = 1000000 # número de mensagens transmitidas\n",
    "EbNodB_train = 7 # SNR de treinamento [dB]\n",
    "R = k/n_ch #taxa [bit/uso de canal]\n",
    "\n",
    "NUM_EPOCHS = 5 # Número de épocas\n",
    "BATCH_SIZE = 32 # Tamanho do batch"
   ]
  },
  {
   "cell_type": "code",
   "execution_count": 3,
   "metadata": {
    "scrolled": false
   },
   "outputs": [
    {
     "name": "stderr",
     "output_type": "stream",
     "text": [
      "WARNING: Logging before flag parsing goes to stderr.\n",
      "W1002 18:45:32.507223  4116 deprecation_wrapper.py:119] From c:\\users\\samuel\\anaconda3\\envs\\autoencoder\\lib\\site-packages\\keras\\backend\\tensorflow_backend.py:66: The name tf.get_default_graph is deprecated. Please use tf.compat.v1.get_default_graph instead.\n",
      "\n",
      "W1002 18:45:32.522217  4116 deprecation_wrapper.py:119] From c:\\users\\samuel\\anaconda3\\envs\\autoencoder\\lib\\site-packages\\keras\\backend\\tensorflow_backend.py:541: The name tf.placeholder is deprecated. Please use tf.compat.v1.placeholder instead.\n",
      "\n",
      "W1002 18:45:32.525217  4116 deprecation_wrapper.py:119] From c:\\users\\samuel\\anaconda3\\envs\\autoencoder\\lib\\site-packages\\keras\\backend\\tensorflow_backend.py:4432: The name tf.random_uniform is deprecated. Please use tf.random.uniform instead.\n",
      "\n",
      "W1002 18:45:32.582189  4116 deprecation_wrapper.py:119] From c:\\users\\samuel\\anaconda3\\envs\\autoencoder\\lib\\site-packages\\keras\\backend\\tensorflow_backend.py:148: The name tf.placeholder_with_default is deprecated. Please use tf.compat.v1.placeholder_with_default instead.\n",
      "\n",
      "W1002 18:45:32.588187  4116 deprecation_wrapper.py:119] From c:\\users\\samuel\\anaconda3\\envs\\autoencoder\\lib\\site-packages\\keras\\backend\\tensorflow_backend.py:4409: The name tf.random_normal is deprecated. Please use tf.random.normal instead.\n",
      "\n",
      "W1002 18:45:32.637166  4116 deprecation_wrapper.py:119] From c:\\users\\samuel\\anaconda3\\envs\\autoencoder\\lib\\site-packages\\keras\\optimizers.py:793: The name tf.train.Optimizer is deprecated. Please use tf.compat.v1.train.Optimizer instead.\n",
      "\n",
      "W1002 18:45:32.730124  4116 deprecation.py:323] From c:\\users\\samuel\\anaconda3\\envs\\autoencoder\\lib\\site-packages\\tensorflow\\python\\ops\\math_grad.py:1250: add_dispatch_support.<locals>.wrapper (from tensorflow.python.ops.array_ops) is deprecated and will be removed in a future version.\n",
      "Instructions for updating:\n",
      "Use tf.where in 2.0, which has the same broadcast rule as np.where\n"
     ]
    },
    {
     "name": "stdout",
     "output_type": "stream",
     "text": [
      "Model: \"model_1\"\n",
      "_________________________________________________________________\n",
      "Layer (type)                 Output Shape              Param #   \n",
      "=================================================================\n",
      "input_1 (InputLayer)         (None, 1)                 0         \n",
      "_________________________________________________________________\n",
      "embedding_1 (Embedding)      (None, 1, 16)             256       \n",
      "_________________________________________________________________\n",
      "flatten_1 (Flatten)          (None, 16)                0         \n",
      "_________________________________________________________________\n",
      "dense_1 (Dense)              (None, 16)                272       \n",
      "_________________________________________________________________\n",
      "dense_2 (Dense)              (None, 7)                 119       \n",
      "_________________________________________________________________\n",
      "lambda_1 (Lambda)            (None, 7)                 0         \n",
      "_________________________________________________________________\n",
      "gaussian_noise_1 (GaussianNo (None, 7)                 0         \n",
      "_________________________________________________________________\n",
      "dense_3 (Dense)              (None, 16)                128       \n",
      "_________________________________________________________________\n",
      "dense_4 (Dense)              (None, 16)                272       \n",
      "=================================================================\n",
      "Total params: 1,047\n",
      "Trainable params: 1,047\n",
      "Non-trainable params: 0\n",
      "_________________________________________________________________\n",
      "None\n",
      "Epoch 1/5\n",
      "1000000/1000000 [==============================] - 32s 32us/step - loss: 0.0207\n",
      "Epoch 2/5\n",
      "1000000/1000000 [==============================] - 31s 31us/step - loss: 0.0016\n",
      "Epoch 3/5\n",
      "1000000/1000000 [==============================] - 32s 32us/step - loss: 0.0014\n",
      "Epoch 4/5\n",
      "1000000/1000000 [==============================] - 32s 32us/step - loss: 0.0012\n",
      "Epoch 5/5\n",
      "1000000/1000000 [==============================] - 32s 32us/step - loss: 0.0011\n"
     ]
    }
   ],
   "source": [
    "data_train = np.random.randint(M, size=n_msg)\n",
    "data_train_pre = data_train.reshape((-1,1))\n",
    "\n",
    "data_test = np.random.randint(M, size=n_msg)\n",
    "\n",
    "# AUTOENCODER:\n",
    "## CAMADAS DO TRANSMISSOR\n",
    "input_signal = Input(shape=(1,)) \n",
    "encoded = Embedding(input_dim=M, output_dim=M, input_length=1)(input_signal)\n",
    "encoded1 = Flatten()(encoded)\n",
    "encoded2 = Dense(M, activation='relu')(encoded1)\n",
    "encoded3 = Dense(n_ch, activation='linear')(encoded2)\n",
    "encoded4 = Lambda(lambda x: np.sqrt(n_ch) * bkend.l2_normalize(x, axis=1))(encoded3)\n",
    "\n",
    "## CANAL GAUSSIANO\n",
    "EbNo_train = 10 ** (0.1*EbNodB_train)\n",
    "channel_out = GaussianNoise(np.sqrt(1 / (2 * R * EbNo_train)))(encoded4)\n",
    "\n",
    "## CAMADAS DO RECEPTOR\n",
    "decoded = Dense(M, activation='relu')(channel_out)\n",
    "decoded1 = Dense(M, activation='softmax')(decoded)\n",
    "\n",
    "# Treino do Autodecoder\n",
    "autoencoder = Model(input_signal, decoded1)\n",
    "autoencoder.compile(optimizer=Adam(lr=0.001), loss='sparse_categorical_crossentropy')\n",
    "print(autoencoder.summary())\n",
    "history = autoencoder.fit(data_train, data_train_pre, epochs=NUM_EPOCHS, batch_size=BATCH_SIZE, verbose = 1)\n",
    "\n",
    "# Encoder\n",
    "encoder = Model(input_signal, encoded4)\n",
    "\n",
    "# Decoder\n",
    "encoded_input = Input(shape=(n_ch,))\n",
    "deco = autoencoder.layers[-2](encoded_input)\n",
    "deco = autoencoder.layers[-1](deco)\n",
    "decoder = Model(encoded_input, deco)"
   ]
  },
  {
   "cell_type": "code",
   "execution_count": 4,
   "metadata": {},
   "outputs": [
    {
     "data": {
      "image/png": "[encoded data removed]",
      "text/plain": [
       "<Figure size 432x288 with 1 Axes>"
      ]
     },
     "metadata": {
      "needs_background": "light"
     },
     "output_type": "display_data"
    },
    {
     "name": "stdout",
     "output_type": "stream",
     "text": [
      "BLER: [0.361533, 0.321537, 0.281761, 0.243133, 0.205161, 0.168831, 0.13637, 0.106107, 0.080626, 0.059092, 0.041546, 0.028043, 0.017962, 0.011041, 0.006222, 0.003322, 0.001686, 0.00076, 0.000347, 0.000126, 4.8e-05, 1.8e-05, 3e-06, 0.0, 0.0]\n"
     ]
    }
   ],
   "source": [
    "EbNodB_low = -2; EbNodB_high = 10; EbNodB_num = 25\n",
    "EbNodB_range = list(np.linspace(EbNodB_low, EbNodB_high, EbNodB_num))\n",
    "ber = [None] * len(EbNodB_range)\n",
    "#data_test = data_test[:5000]\n",
    "# ANÁLISE DE PERFORMANCE\n",
    "## BLER\n",
    "for n in range(0, len(EbNodB_range)):\n",
    "    EbNo = 10 ** (0.1*EbNodB_range[n])\n",
    "    noise_std = np.sqrt(1 / (2 * R * EbNo))\n",
    "    n_err = 0\n",
    "    awgn = noise_std * np.random.randn(n_msg, n_ch)\n",
    "    # Transmissão \n",
    "    encoded_signal = encoder.predict(data_test)              \n",
    "    final_signal = encoded_signal + awgn \n",
    "    # Recepção\n",
    "    pred_final_signal = decoder.predict(final_signal)\n",
    "    pred_output = np.argmax(pred_final_signal, axis=1)\n",
    "    # Numero de msg erradas\n",
    "    n_err = (pred_output != data_test)\n",
    "    n_err = n_err.astype(int).sum()\n",
    "    ber[n] = n_err / n_msg\n",
    "\n",
    "\n",
    "plt.plot(EbNodB_range, ber,'bo')\n",
    "plt.yscale('log')\n",
    "plt.xlabel('Eb/No [dB]')\n",
    "plt.ylabel('Block Error Rate')\n",
    "plt.grid()\n",
    "plt.savefig('2_2-bler.png', bbox_inches='tight')\n",
    "plt.show()\n",
    "print('BLER:',ber)"
   ]
  },
  {
   "cell_type": "code",
   "execution_count": 5,
   "metadata": {},
   "outputs": [
    {
     "data": {
      "text/plain": [
       "(1000000,)"
      ]
     },
     "execution_count": 5,
     "metadata": {},
     "output_type": "execute_result"
    }
   ],
   "source": [
    "data_test.shape"
   ]
  },
  {
   "cell_type": "code",
   "execution_count": 6,
   "metadata": {},
   "outputs": [
    {
     "data": {
      "image/png": "[encoded data removed]",
      "text/plain": [
       "<Figure size 432x288 with 1 Axes>"
      ]
     },
     "metadata": {
      "needs_background": "light"
     },
     "output_type": "display_data"
    }
   ],
   "source": [
    "data_test = data_test[:1500]\n",
    "if n_ch == 2:\n",
    "    scatter_plot = []\n",
    "    for i in range(0, M):\n",
    "        scatter_plot.append(encoder.predict(np.expand_dims(i, axis=0)))\n",
    "    scatter_plot = np.array(scatter_plot)\n",
    "    scatter_plot = scatter_plot.reshape(M, 2, 1)\n",
    "    plt.scatter(scatter_plot[:, 0], scatter_plot[:, 1], s=1, c='black', label='(%d, %d)'%(n_ch, int(np.log2(M))))\n",
    "    plt.axis((-2.5, 2.5, -2.5, 2.5))\n",
    "    plt.legend()\n",
    "    plt.grid()\n",
    "    plt.savefig('2_2-const.png', bbox_inches='tight')\n",
    "    plt.show()\n",
    "     \n",
    "                    \n",
    "if n_ch > 2:\n",
    "    x_emb = encoder.predict(data_test)\n",
    "    noise = noise_std * np.random.randn(len(data_test), n_ch)\n",
    "    x_emb = x_emb + noise\n",
    "    X_embedded = TSNE(n_components=2).fit_transform(x_emb)\n",
    "    X_embedded = X_embedded / 7\n",
    "    plt.scatter(X_embedded[:, 0], X_embedded[:, 1], s=.5, c='black', label='(%d, %d)'%(n_ch, int(np.log2(M))))\n",
    "    plt.legend()\n",
    "    plt.grid()\n",
    "    plt.savefig('2_2-const.png', bbox_inches='tight')\n",
    "    plt.show()"
   ]
  },
  {
   "cell_type": "code",
   "execution_count": 7,
   "metadata": {},
   "outputs": [],
   "source": [
    "# EbNodB_low = -4; EbNodB_high = 8.5; EbNodB_num = 26\n",
    "# EbNodB_range = list(np.linspace(EbNodB_low, EbNodB_high, EbNodB_num))\n",
    "EbNodB_low = -2; EbNodB_high = 10; EbNodB_num = 25\n",
    "EbNodB_range = list(np.linspace(EbNodB_low, EbNodB_high, EbNodB_num))"
   ]
  },
  {
   "cell_type": "code",
   "execution_count": 8,
   "metadata": {
    "scrolled": true
   },
   "outputs": [
    {
     "data": {
      "text/plain": [
       "[-2.0,\n",
       " -1.5,\n",
       " -1.0,\n",
       " -0.5,\n",
       " 0.0,\n",
       " 0.5,\n",
       " 1.0,\n",
       " 1.5,\n",
       " 2.0,\n",
       " 2.5,\n",
       " 3.0,\n",
       " 3.5,\n",
       " 4.0,\n",
       " 4.5,\n",
       " 5.0,\n",
       " 5.5,\n",
       " 6.0,\n",
       " 6.5,\n",
       " 7.0,\n",
       " 7.5,\n",
       " 8.0,\n",
       " 8.5,\n",
       " 9.0,\n",
       " 9.5,\n",
       " 10.0]"
      ]
     },
     "execution_count": 8,
     "metadata": {},
     "output_type": "execute_result"
    }
   ],
   "source": [
    "EbNodB_range"
   ]
  },
  {
   "cell_type": "code",
   "execution_count": 9,
   "metadata": {},
   "outputs": [],
   "source": [
    "EbNodB_low = -4; EbNodB_high = 8.5; EbNodB_num = 26\n",
    "EbNodB_range = list(np.linspace(EbNodB_low, EbNodB_high, EbNodB_num))"
   ]
  }
 ],
 "metadata": {
  "kernelspec": {
   "display_name": "Python 3",
   "language": "python",
   "name": "python3"
  },
  "language_info": {
   "codemirror_mode": {
    "name": "ipython",
    "version": 3
   },
   "file_extension": ".py",
   "mimetype": "text/x-python",
   "name": "python",
   "nbconvert_exporter": "python",
   "pygments_lexer": "ipython3",
   "version": "3.6.9"
  }
 },
 "nbformat": 4,
 "nbformat_minor": 2
}
