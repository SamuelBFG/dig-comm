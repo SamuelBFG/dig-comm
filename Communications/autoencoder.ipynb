{
 "cells": [
  {
   "cell_type": "code",
   "execution_count": null,
   "metadata": {},
   "outputs": [],
   "source": [
    "import numpy as np\n",
    "import keras\n",
    "import tensorflow as tf\n",
    "from scipy.special import erfc\n",
    "from sklearn.manifold import TSNE\n",
    "from keras.layers import Input, Dense, GaussianNoise, Lambda, Embedding, Flatten\n",
    "from keras.models import Model\n",
    "from keras.optimizers import Adam\n",
    "from keras import backend as bkend\n",
    "import matplotlib.pyplot as plt\n",
    "%matplotlib inline"
   ]
  },
  {
   "cell_type": "code",
   "execution_count": null,
   "metadata": {},
   "outputs": [],
   "source": [
    "M = 16 # cardinalidade do conjunto de mensagens possiveis\n",
    "k = int(np.log2(M)) # bits\n",
    "n_ch = 7 # usos de canal\n",
    "n_msg = 1000000 # número de mensagens transmitidas\n",
    "EbNodB_train = 7 # SNR de treinamento [dB]\n",
    "R = k/n_ch #taxa [bit/uso de canal]\n",
    "\n",
    "NUM_EPOCHS = 5 # Número de épocas\n",
    "BATCH_SIZE = 32 # Tamanho do batch"
   ]
  },
  {
   "cell_type": "code",
   "execution_count": null,
   "metadata": {},
   "outputs": [],
   "source": [
    "data_train = np.random.randint(M, size=n_msg)\n",
    "data_train_pre = data_train.reshape((-1,1))\n",
    "\n",
    "data_test = np.random.randint(M, size=n_msg)\n",
    "\n",
    "# AUTOENCODER:\n",
    "## CAMADAS DO TRANSMISSOR\n",
    "input_signal = Input(shape=(1,)) \n",
    "encoded = Embedding(input_dim=M, output_dim=M, input_length=1)(input_signal)\n",
    "encoded1 = Flatten()(encoded)\n",
    "encoded2 = Dense(M, activation='relu')(encoded1)\n",
    "encoded3 = Dense(n_ch, activation='linear')(encoded2)\n",
    "encoded4 = Lambda(lambda x: np.sqrt(n_ch) * bkend.l2_normalize(x, axis=1))(encoded3)\n",
    "\n",
    "## CANAL GAUSSIANO\n",
    "EbNo_train = 10 ** (0.1*EbNodB_train)\n",
    "channel_out = GaussianNoise(np.sqrt(1 / (2 * R * EbNo_train)))(encoded4)\n",
    "\n",
    "## CAMADAS DO RECEPTOR\n",
    "decoded = Dense(M, activation='relu')(channel_out)\n",
    "decoded1 = Dense(M, activation='softmax')(decoded)\n",
    "\n",
    "# Treino do Autodecoder\n",
    "autoencoder = Model(input_signal, decoded1)\n",
    "autoencoder.compile(optimizer=Adam(lr=0.001), loss='sparse_categorical_crossentropy')\n",
    "print(autoencoder.summary())\n",
    "history = autoencoder.fit(data_train, data_train_pre, epochs=NUM_EPOCHS, batch_size=BATCH_SIZE, verbose = 1)\n",
    "\n",
    "# Encoder\n",
    "encoder = Model(input_signal, encoded4)\n",
    "\n",
    "# Decoder\n",
    "encoded_input = Input(shape=(n_ch,))\n",
    "deco = autoencoder.layers[-2](encoded_input)\n",
    "deco = autoencoder.layers[-1](deco)\n",
    "decoder = Model(encoded_input, deco)"
   ]
  },
  {
   "cell_type": "code",
   "execution_count": null,
   "metadata": {},
   "outputs": [],
   "source": [
    "EbNodB_low = -4; EbNodB_high = 8.5; EbNodB_num = 26\n",
    "EbNodB_range = list(np.linspace(EbNodB_low, EbNodB_high, EbNodB_num))\n",
    "ber = [None] * len(EbNodB_range)\n",
    "#data_test = data_test[:5000]\n",
    "# ANÁLISE DE PERFORMANCE\n",
    "## BLER\n",
    "for n in range(0, len(EbNodB_range)):\n",
    "    EbNo = 10 ** (0.1*EbNodB_range[n])\n",
    "    noise_std = np.sqrt(1 / (2 * R * EbNo))\n",
    "    n_err = 0\n",
    "    awgn = noise_std * np.random.randn(n_msg, n_ch)\n",
    "    # Transmissão \n",
    "    encoded_signal = encoder.predict(data_test)              \n",
    "    final_signal = encoded_signal + awgn \n",
    "    # Recepção\n",
    "    pred_final_signal = decoder.predict(final_signal)\n",
    "    pred_output = np.argmax(pred_final_signal, axis=1)\n",
    "    # Numero de msg erradas\n",
    "    n_err = (pred_output != data_test)\n",
    "    n_err = n_err.astype(int).sum()\n",
    "    ber[n] = n_err / n_msg\n",
    "\n",
    "\n",
    "plt.plot(EbNodB_range, ber,'bo')\n",
    "plt.yscale('log')\n",
    "plt.xlabel('Eb/No [dB]')\n",
    "plt.ylabel('Block Error Rate')\n",
    "plt.grid()\n",
    "plt.savefig('7_4-bler.png')\n",
    "plt.show()\n",
    "print('BLER:',ber)"
   ]
  },
  {
   "cell_type": "code",
   "execution_count": null,
   "metadata": {},
   "outputs": [],
   "source": [
    "data_test.shape"
   ]
  },
  {
   "cell_type": "code",
   "execution_count": null,
   "metadata": {},
   "outputs": [],
   "source": [
    "data_test = data_test[:1500]\n",
    "if n_ch == 2:\n",
    "    scatter_plot = []\n",
    "    for i in range(0, M):\n",
    "        scatter_plot.append(encoder.predict(np.expand_dims(i, axis=0)))\n",
    "    scatter_plot = np.array(scatter_plot)\n",
    "    scatter_plot = scatter_plot.reshape(M, 2, 1)\n",
    "    plt.scatter(scatter_plot[:, 0], scatter_plot[:, 1], c='black', label='(%d, %d),'%(n_ch, int(np.log2(M))))\n",
    "    plt.axis((-2.5, 2.5, -2.5, 2.5))\n",
    "    plt.legend()\n",
    "    plt.grid()\n",
    "    plt.savefig('7_4-const.png')\n",
    "    plt.show()\n",
    "     \n",
    "                    \n",
    "if n_ch > 2:\n",
    "    x_emb = encoder.predict(data_test)\n",
    "    noise = noise_std * np.random.randn(len(data_test), n_ch)\n",
    "    x_emb = x_emb + noise\n",
    "    X_embedded = TSNE(n_components=2).fit_transform(x_emb)\n",
    "    X_embedded = X_embedded / 7\n",
    "    plt.scatter(X_embedded[:, 0], X_embedded[:, 1], c='black', label='(%d, %d)'%(n_ch, int(np.log2(M))))\n",
    "    plt.legend()\n",
    "    plt.grid()\n",
    "    plt.savefig('7_4-const.png')\n",
    "    plt.show()"
   ]
  },
  {
   "cell_type": "code",
   "execution_count": null,
   "metadata": {},
   "outputs": [],
   "source": []
  }
 ],
 "metadata": {
  "kernelspec": {
   "display_name": "Python 3",
   "language": "python",
   "name": "python3"
  },
  "language_info": {
   "codemirror_mode": {
    "name": "ipython",
    "version": 3
   },
   "file_extension": ".py",
   "mimetype": "text/x-python",
   "name": "python",
   "nbconvert_exporter": "python",
   "pygments_lexer": "ipython3",
   "version": "3.6.9"
  }
 },
 "nbformat": 4,
 "nbformat_minor": 2
}
